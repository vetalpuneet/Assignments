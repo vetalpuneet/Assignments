{
 "cells": [
  {
   "cell_type": "code",
   "execution_count": 1,
   "metadata": {},
   "outputs": [
    {
     "name": "stdout",
     "output_type": "stream",
     "text": [
      "A number cannot be divided by zero\n"
     ]
    }
   ],
   "source": [
    "# Q1, Task1\n",
    "\n",
    "def foo():\n",
    "    return 5/0\n",
    "\n",
    "# driver code\n",
    "try:\n",
    "    foo()\n",
    "except ZeroDivisionError:\n",
    "    print('A number cannot be divided by zero')\n",
    "except Exception:\n",
    "    print('Default exception')"
   ]
  },
  {
   "cell_type": "code",
   "execution_count": 6,
   "metadata": {},
   "outputs": [
    {
     "name": "stdout",
     "output_type": "stream",
     "text": [
      "Americans play Baseball\n",
      "Americans play Cricket\n",
      "Americans watch Baseball\n",
      "Americans watch Cricket\n",
      "Indians play Baseball\n",
      "Indians play Cricket\n",
      "Indians watch Baseball\n",
      "Indians watch Cricket\n",
      "\n"
     ]
    }
   ],
   "source": [
    "# Q1, Task2\n",
    "\n",
    "subjects=['Americans', 'Indians']\n",
    "verbs=['play', 'watch']\n",
    "objects=['Baseball', 'Cricket']\n",
    "\n",
    "print(''.join([fLst+' ' +sLst+' '+tLst+'\\n' for fLst in subjects for sLst in verbs for tLst in objects]))"
   ]
  },
  {
   "cell_type": "code",
   "execution_count": 2,
   "metadata": {},
   "outputs": [
    {
     "name": "stdout",
     "output_type": "stream",
     "text": [
      "[[25  5  1]\n",
      " [ 4  2  1]\n",
      " [ 9  3  1]\n",
      " [36  6  1]]\n"
     ]
    }
   ],
   "source": [
    "# Q1, Task3\n",
    "\n",
    "import numpy as np\n",
    "x = np.array([5, 2, 3, 6])\n",
    "N = 3\n",
    "print(np.vander(x, N))"
   ]
  },
  {
   "cell_type": "code",
   "execution_count": null,
   "metadata": {},
   "outputs": [],
   "source": []
  }
 ],
 "metadata": {
  "kernelspec": {
   "display_name": "Python 3",
   "language": "python",
   "name": "python3"
  },
  "language_info": {
   "codemirror_mode": {
    "name": "ipython",
    "version": 3
   },
   "file_extension": ".py",
   "mimetype": "text/x-python",
   "name": "python",
   "nbconvert_exporter": "python",
   "pygments_lexer": "ipython3",
   "version": "3.6.5"
  }
 },
 "nbformat": 4,
 "nbformat_minor": 2
}
