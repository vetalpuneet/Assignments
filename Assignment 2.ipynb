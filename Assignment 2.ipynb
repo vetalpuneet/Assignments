{
 "cells": [
  {
   "cell_type": "code",
   "execution_count": 52,
   "metadata": {},
   "outputs": [
    {
     "name": "stdout",
     "output_type": "stream",
     "text": [
      "14\n"
     ]
    }
   ],
   "source": [
    "# Task1, Q1.1:\n",
    "\n",
    "def foo(a, b):\n",
    "    return a*b\n",
    "def myReduce(foo, seq):\n",
    "    '''\n",
    "    function returns the product of the elements of seq\n",
    "    '''\n",
    "    if(len(seq) != 0):\n",
    "        index = 0\n",
    "        res = 1\n",
    "        while(index < len(seq)):\n",
    "            a = seq[index]\n",
    "            res = foo(a, res)\n",
    "            index += 1\n",
    "        return res\n",
    "    return 0\n",
    "\n",
    "# driver code\n",
    "lst = [2, 7]\n",
    "print(myReduce(foo, lst))"
   ]
  },
  {
   "cell_type": "code",
   "execution_count": 39,
   "metadata": {},
   "outputs": [
    {
     "name": "stdout",
     "output_type": "stream",
     "text": [
      "[0, 1, 2, 3, 4, 5, 6, 7, 8, 9]\n"
     ]
    }
   ],
   "source": [
    "# Task1, Q1.2\n",
    "\n",
    "def foo(num):\n",
    "    flag = False\n",
    "    if(num >= 0):\n",
    "        flag = True\n",
    "        return flag\n",
    "    return flag\n",
    "    \n",
    "def myFilter(foo, num_range):\n",
    "    '''\n",
    "    function returns the non-negative elements from num_range\n",
    "    '''\n",
    "    if(len(num_range) != 0):\n",
    "        res_lst = []\n",
    "        res_lst = [ele for ele in num_range if(foo(ele))]\n",
    "        return res_lst\n",
    "    return 0\n",
    "# driver code\n",
    "num_range = range(-10, 10)\n",
    "print(myFilter(foo, num_range))"
   ]
  },
  {
   "cell_type": "code",
   "execution_count": 55,
   "metadata": {},
   "outputs": [
    {
     "name": "stdout",
     "output_type": "stream",
     "text": [
      "['A', 'C', 'A', 'D', 'G', 'I', 'L', 'D']\n",
      "['x', 'xx', 'xxx', 'xxxx', 'y', 'yy', 'yyy', 'yyyy', 'z', 'zz', 'zzz', 'zzzz']\n",
      "['x', 'y', 'z', 'xx', 'yy', 'zz', 'xxxx', 'yyyy', 'zzzz']\n",
      "[[2], [3], [4], [3], [4], [5], [4], [5], [6]]\n",
      "[[2, 3, 4, 5], [3, 4, 5, 6], [4, 5, 6, 7], [5, 6, 7, 8]]\n",
      "[(1, 1), (2, 1), (3, 1), (1, 2), (2, 2), (3, 2), (1, 3), (2, 3), (3, 3)]\n"
     ]
    }
   ],
   "source": [
    "# Task1, Q2:\n",
    "\n",
    "# ['A', 'C', 'A', 'D', 'G', 'I', ’L’, ‘ D’]\n",
    "str1 = 'ACADGILD'\n",
    "lst1 = [letter for letter in str1]\n",
    "print(lst1)\n",
    "\n",
    "\n",
    "# ['x', 'xx', 'xxx', 'xxxx', 'y', 'yy', 'yyy', 'yyyy', 'z', 'zz', 'zzz', 'zzzz']\n",
    "str2 = 'xyz'\n",
    "lst2 = [ele*i for ele in str2 for i in range(1,5)]\n",
    "print(lst2)\n",
    "\n",
    "\n",
    "# ['x', 'y', 'z', 'xx', 'yy', 'zz', 'xx', 'yy', 'zz', 'xxxx', 'yyyy', 'zzzz']\n",
    "str3 = 'xyz'\n",
    "lst3 = [ele*i for i in range(1,5) for ele in str3 if(len(ele*i) != 3)]\n",
    "print(lst3)\n",
    "\n",
    "\n",
    "# [[2], [3], [4], [3], [4], [5], [4], [5], [6]]\n",
    "res_lst = [[ele+x] for x in range(3) for ele in range(2, 5)]\n",
    "print(res_lst)\n",
    "\n",
    "\n",
    "# [[2, 3, 4, 5], [3, 4, 5, 6], [4, 5, 6, 7], [5, 6, 7, 8]]\n",
    "lst = [[ele+x for ele in range(2, 6)] for x in range(4)]\n",
    "print(lst)\n",
    "\n",
    "\n",
    "#[(1, 1), (2, 1), (3, 1), (1, 2), (2, 2), (3, 2), (1, 3), (2, 3), (3, 3)]\n",
    "lst1 = [(a,ele) for ele in range(1, 4) for a in range(1, 4)]\n",
    "print(lst1)"
   ]
  },
  {
   "cell_type": "code",
   "execution_count": 40,
   "metadata": {},
   "outputs": [
    {
     "name": "stdout",
     "output_type": "stream",
     "text": [
      "bbbbbb\n"
     ]
    }
   ],
   "source": [
    "# Task1, Q3:\n",
    "\n",
    "def longestWord(lst):\n",
    "    if(len(lst) != 0):\n",
    "        word = []\n",
    "        longest_word = lst[0]\n",
    "        for ele in lst:\n",
    "            if(len(ele) >= len(longest_word)):\n",
    "                longest_word = ele\n",
    "        for ele in lst:                         # if more than one longest word exists\n",
    "            if(len(ele) == len(longest_word)):\n",
    "                word.append(ele)\n",
    "        return ', '.join(word)\n",
    "    return 'Not a proper format'\n",
    "\n",
    "# driver code\n",
    "lst = ['aaaaa', 'bbbbbb', 'cc']\n",
    "print(longestWord(lst))"
   ]
  },
  {
   "cell_type": "code",
   "execution_count": 1,
   "metadata": {},
   "outputs": [
    {
     "name": "stdout",
     "output_type": "stream",
     "text": [
      "Enter first side: 5 \n",
      "Enter second side: 4\n",
      "Enter third side: 10\n",
      "Invalid inputs\n"
     ]
    }
   ],
   "source": [
    "# Task2, Q1.1:\n",
    "\n",
    "class Length:\n",
    "    def setSide(self):\n",
    "        self.a = int(input('Enter first side: '))\n",
    "        self.b = int(input('Enter second side: '))\n",
    "        self.c = int(input('Enter third side: '))\n",
    "    def getSide(self):\n",
    "        return self.a, self.b, self.c\n",
    "    \n",
    "class Area(Length):\n",
    "    def areaOfTraiangle(self, a, b, c):\n",
    "        if(a+b > c):\n",
    "            s = (a + b + c) / 2\n",
    "            self.area = (s*(s-a)*(s-b)*(s-c)) ** 0.5\n",
    "            return self.area\n",
    "        return 'Invalid inputs'\n",
    "    \n",
    "# driver code\n",
    "obj = Area()\n",
    "obj.setSide()\n",
    "a, b, c = obj.getSide()\n",
    "print(obj.areaOfTraiangle(a, b, c))"
   ]
  },
  {
   "cell_type": "code",
   "execution_count": 57,
   "metadata": {},
   "outputs": [
    {
     "name": "stdout",
     "output_type": "stream",
     "text": [
      "['dhhfios', 'yiosgvsf']\n"
     ]
    }
   ],
   "source": [
    "# Task2, Q1.2:\n",
    "\n",
    "def filter_long_words(lst, n):\n",
    "    if(len(lst) != 0):\n",
    "        return [word for word in lst if(len(word) > n)]\n",
    "    return []\n",
    "\n",
    "# driver code\n",
    "lst = ['dhhfios', 'yiosgvsf', 'hjdkd', 'aaaaaa']\n",
    "n = 6\n",
    "print(filter_long_words(lst, n))"
   ]
  },
  {
   "cell_type": "code",
   "execution_count": 44,
   "metadata": {},
   "outputs": [
    {
     "name": "stdout",
     "output_type": "stream",
     "text": [
      "[2, 3, 4]\n"
     ]
    }
   ],
   "source": [
    "# Task2, Q2.1:\n",
    "\n",
    "def mapsTo(lst):\n",
    "    if(len(lst) != 0):\n",
    "        return [len(ele) for ele in lst]\n",
    "    return [0]\n",
    "\n",
    "#driver code\n",
    "lst = ['ab','cde','erty']\n",
    "print(mapsTo(lst))"
   ]
  },
  {
   "cell_type": "code",
   "execution_count": 51,
   "metadata": {},
   "outputs": [
    {
     "name": "stdout",
     "output_type": "stream",
     "text": [
      "Enter a character: i\n",
      "True\n",
      "Enter a character: k\n",
      "False\n",
      "Enter a character: A\n",
      "True\n",
      "Enter a character: \n",
      "Not a proper format\n"
     ]
    }
   ],
   "source": [
    "# Task2, Q2.2:\n",
    "\n",
    "def isVowel(c):\n",
    "    if(c and c.isspace() == False):\n",
    "        vowel_lst = ['a','A','e','E','i','I','o','O','u','U']\n",
    "        if(c in vowel_lst):\n",
    "            return True\n",
    "        return False\n",
    "    return 'Not a proper format'\n",
    "\n",
    "# driver code\n",
    "c = input('Enter a character: ')\n",
    "print(isVowel(c))\n",
    "c = input('Enter a character: ')\n",
    "print(isVowel(c))\n",
    "c = input('Enter a character: ')\n",
    "print(isVowel(c))\n",
    "c = input('Enter a character: ')\n",
    "print(isVowel(c))"
   ]
  }
 ],
 "metadata": {
  "kernelspec": {
   "display_name": "Python 3",
   "language": "python",
   "name": "python3"
  },
  "language_info": {
   "codemirror_mode": {
    "name": "ipython",
    "version": 3
   },
   "file_extension": ".py",
   "mimetype": "text/x-python",
   "name": "python",
   "nbconvert_exporter": "python",
   "pygments_lexer": "ipython3",
   "version": "3.6.5"
  }
 },
 "nbformat": 4,
 "nbformat_minor": 2
}
