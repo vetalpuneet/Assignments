{
 "cells": [
  {
   "cell_type": "code",
   "execution_count": 4,
   "metadata": {},
   "outputs": [
    {
     "name": "stdout",
     "output_type": "stream",
     "text": [
      "The sum of 5 and 8 is: 13\n"
     ]
    }
   ],
   "source": [
    "# Task 1-Q1:\n",
    "\n",
    "print('The sum of 5 and 8 is: {0}'.format(5+8))"
   ]
  },
  {
   "cell_type": "code",
   "execution_count": 1,
   "metadata": {},
   "outputs": [
    {
     "name": "stdout",
     "output_type": "stream",
     "text": [
      "2002,2009,2016,2023,2037,2044,2051,2058,2072,2079,2086,2093,2107,2114,2121,2128,2142,2149,2156,2163,2177,2184,2191,2198,2212,2219,2226,2233,2247,2254,2261,2268,2282,2289,2296,2303,2317,2324,2331,2338,2352,2359,2366,2373,2387,2394,2401,2408,2422,2429,2436,2443,2457,2464,2471,2478,2492,2499,2506,2513,2527,2534,2541,2548,2562,2569,2576,2583,2597,2604,2611,2618,2632,2639,2646,2653,2667,2674,2681,2688,2702,2709,2716,2723,2737,2744,2751,2758,2772,2779,2786,2793,2807,2814,2821,2828,2842,2849,2856,2863,2877,2884,2891,2898,2912,2919,2926,2933,2947,2954,2961,2968,2982,2989,2996,3003,3017,3024,3031,3038,3052,3059,3066,3073,3087,3094,3101,3108,3122,3129,3136,3143,3157,3164,3171,3178,3192,3199,"
     ]
    }
   ],
   "source": [
    "# Task 1-Q2:\n",
    "\n",
    "for ele in range(2000, 3201):\n",
    "    if(ele%7 == 0 and ele%5 != 0):\n",
    "        print(ele, end=',')"
   ]
  },
  {
   "cell_type": "code",
   "execution_count": 5,
   "metadata": {},
   "outputs": [
    {
     "name": "stdout",
     "output_type": "stream",
     "text": [
      "Enter first name: Puneet\n",
      "Enter last name: Vetal\n",
      "teenuP lateV\n"
     ]
    }
   ],
   "source": [
    "# Task 1-Q3:\n",
    "\n",
    "first_Name = input('Enter first name: ')\n",
    "last_Name = input('Enter last name: ')\n",
    "if(first_Name == '' or last_Name == ''):\n",
    "    print('Not a proper input')\n",
    "else:\n",
    "    print('{0} {1}'.format(first_Name[::-1], last_Name[::-1]))"
   ]
  },
  {
   "cell_type": "code",
   "execution_count": 6,
   "metadata": {},
   "outputs": [
    {
     "name": "stdout",
     "output_type": "stream",
     "text": [
      "904.7786842338603\n"
     ]
    }
   ],
   "source": [
    "# Task 1-Q4:\n",
    "\n",
    "import math\n",
    "diameter = 12\n",
    "radius = diameter/2\n",
    "V = 4/3*math.pi*radius**3\n",
    "print(V)"
   ]
  },
  {
   "cell_type": "code",
   "execution_count": 7,
   "metadata": {},
   "outputs": [
    {
     "name": "stdout",
     "output_type": "stream",
     "text": [
      "5, 6, 9\n",
      "['5', ' 6', ' 9']\n"
     ]
    }
   ],
   "source": [
    "# Task 2-Q1:\n",
    "\n",
    "numbers = input()\n",
    "if(numbers != ''):\n",
    "    lst = []\n",
    "    lst = numbers.split(',')\n",
    "    print(lst)\n",
    "else:\n",
    "    print('Not a proper format')"
   ]
  },
  {
   "cell_type": "code",
   "execution_count": 9,
   "metadata": {},
   "outputs": [
    {
     "name": "stdout",
     "output_type": "stream",
     "text": [
      "*    \n",
      "**   \n",
      "***  \n",
      "**** \n",
      "*****\n",
      "**** \n",
      "***  \n",
      "**   \n",
      "*    \n"
     ]
    }
   ],
   "source": [
    "# Task 2-Q2:\n",
    "\n",
    "for i in range(1, 10):\n",
    "    for j in range(1, 6):\n",
    "        if(i<=5 and j<=i or i>5 and j<=10-i):\n",
    "            print('*', end='')\n",
    "        else:\n",
    "            print(' ', end='')\n",
    "    print()"
   ]
  },
  {
   "cell_type": "code",
   "execution_count": 10,
   "metadata": {},
   "outputs": [
    {
     "name": "stdout",
     "output_type": "stream",
     "text": [
      "Enter a string: AcadGild\n",
      "dliGdacA\n"
     ]
    }
   ],
   "source": [
    "# Task 2-Q3:\n",
    "\n",
    "str = input('Enter a string: ')\n",
    "if(str != ''):\n",
    "    print(str[::-1])\n",
    "else:\n",
    "    print('Not a proper format')"
   ]
  },
  {
   "cell_type": "code",
   "execution_count": 11,
   "metadata": {},
   "outputs": [
    {
     "name": "stdout",
     "output_type": "stream",
     "text": [
      "WE,THE PEOPLE OF INDIA,\n",
      "     having solemnly resolved to constitute India into a SOVEREIGN,!\n",
      "\t     SOCIALIST, SECULAR, DEMOCRATIC REPUBLIC\n",
      "\t      and to secure to all its citizens\n"
     ]
    }
   ],
   "source": [
    "# Task 2-Q4:\n",
    "\n",
    "print('WE,THE PEOPLE OF INDIA,\\n     having solemnly resolved to constitute India into a SOVEREIGN,!\\n\\t     SOCIALIST, SECULAR, DEMOCRATIC REPUBLIC\\n\\t      and to secure to all its citizens')"
   ]
  },
  {
   "cell_type": "code",
   "execution_count": null,
   "metadata": {},
   "outputs": [],
   "source": []
  }
 ],
 "metadata": {
  "kernelspec": {
   "display_name": "Python 3",
   "language": "python",
   "name": "python3"
  },
  "language_info": {
   "codemirror_mode": {
    "name": "ipython",
    "version": 3
   },
   "file_extension": ".py",
   "mimetype": "text/x-python",
   "name": "python",
   "nbconvert_exporter": "python",
   "pygments_lexer": "ipython3",
   "version": "3.6.5"
  }
 },
 "nbformat": 4,
 "nbformat_minor": 2
}
